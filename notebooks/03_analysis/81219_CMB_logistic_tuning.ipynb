{
 "cells": [
  {
   "cell_type": "code",
   "execution_count": 10,
   "metadata": {},
   "outputs": [],
   "source": [
    "import pandas as pd\n",
    "# import numpy as np\n",
    "\n",
    "from sklearn.preprocessing import StandardScaler, RobustScaler, PolynomialFeatures, MinMaxScaler\n",
    "from sklearn.model_selection import train_test_split, GridSearchCV\n",
    "from sklearn.decomposition import PCA\n",
    "# from sklearn.tree import DecisionTreeClassifier\n",
    "# from sklearn.ensemble import RandomForestClassifier\n",
    "from sklearn.linear_model import LogisticRegression\n",
    "from sklearn.pipeline import Pipeline\n",
    "# from sklearn.metrics import accuracy_score"
   ]
  },
  {
   "cell_type": "code",
   "execution_count": 2,
   "metadata": {
    "scrolled": true
   },
   "outputs": [
    {
     "data": {
      "text/html": [
       "<div>\n",
       "<style scoped>\n",
       "    .dataframe tbody tr th:only-of-type {\n",
       "        vertical-align: middle;\n",
       "    }\n",
       "\n",
       "    .dataframe tbody tr th {\n",
       "        vertical-align: top;\n",
       "    }\n",
       "\n",
       "    .dataframe thead th {\n",
       "        text-align: right;\n",
       "    }\n",
       "</style>\n",
       "<table border=\"1\" class=\"dataframe\">\n",
       "  <thead>\n",
       "    <tr style=\"text-align: right;\">\n",
       "      <th></th>\n",
       "      <th>fixed acidity</th>\n",
       "      <th>volatile acidity</th>\n",
       "      <th>citric acid</th>\n",
       "      <th>residual sugar</th>\n",
       "      <th>chlorides</th>\n",
       "      <th>free sulfur dioxide</th>\n",
       "      <th>total sulfur dioxide</th>\n",
       "      <th>density</th>\n",
       "      <th>pH</th>\n",
       "      <th>sulphates</th>\n",
       "      <th>alcohol</th>\n",
       "      <th>quality</th>\n",
       "    </tr>\n",
       "  </thead>\n",
       "  <tbody>\n",
       "    <tr>\n",
       "      <th>0</th>\n",
       "      <td>-0.238095</td>\n",
       "      <td>0.72</td>\n",
       "      <td>-0.787879</td>\n",
       "      <td>-0.428571</td>\n",
       "      <td>-0.15</td>\n",
       "      <td>-0.214286</td>\n",
       "      <td>-0.100</td>\n",
       "      <td>0.469799</td>\n",
       "      <td>1.052632</td>\n",
       "      <td>-0.333333</td>\n",
       "      <td>-0.50</td>\n",
       "      <td>0</td>\n",
       "    </tr>\n",
       "    <tr>\n",
       "      <th>1</th>\n",
       "      <td>-0.047619</td>\n",
       "      <td>1.44</td>\n",
       "      <td>-0.787879</td>\n",
       "      <td>0.571429</td>\n",
       "      <td>0.95</td>\n",
       "      <td>0.785714</td>\n",
       "      <td>0.725</td>\n",
       "      <td>0.022371</td>\n",
       "      <td>-0.578947</td>\n",
       "      <td>0.333333</td>\n",
       "      <td>-0.25</td>\n",
       "      <td>0</td>\n",
       "    </tr>\n",
       "    <tr>\n",
       "      <th>2</th>\n",
       "      <td>-0.047619</td>\n",
       "      <td>0.96</td>\n",
       "      <td>-0.666667</td>\n",
       "      <td>0.142857</td>\n",
       "      <td>0.65</td>\n",
       "      <td>0.071429</td>\n",
       "      <td>0.400</td>\n",
       "      <td>0.111857</td>\n",
       "      <td>-0.263158</td>\n",
       "      <td>0.166667</td>\n",
       "      <td>-0.25</td>\n",
       "      <td>0</td>\n",
       "    </tr>\n",
       "    <tr>\n",
       "      <th>3</th>\n",
       "      <td>1.571429</td>\n",
       "      <td>-0.96</td>\n",
       "      <td>0.909091</td>\n",
       "      <td>-0.428571</td>\n",
       "      <td>-0.20</td>\n",
       "      <td>0.214286</td>\n",
       "      <td>0.550</td>\n",
       "      <td>0.559284</td>\n",
       "      <td>-0.789474</td>\n",
       "      <td>-0.222222</td>\n",
       "      <td>-0.25</td>\n",
       "      <td>1</td>\n",
       "    </tr>\n",
       "    <tr>\n",
       "      <th>4</th>\n",
       "      <td>-0.238095</td>\n",
       "      <td>0.72</td>\n",
       "      <td>-0.787879</td>\n",
       "      <td>-0.428571</td>\n",
       "      <td>-0.15</td>\n",
       "      <td>-0.214286</td>\n",
       "      <td>-0.100</td>\n",
       "      <td>0.469799</td>\n",
       "      <td>1.052632</td>\n",
       "      <td>-0.333333</td>\n",
       "      <td>-0.50</td>\n",
       "      <td>0</td>\n",
       "    </tr>\n",
       "  </tbody>\n",
       "</table>\n",
       "</div>"
      ],
      "text/plain": [
       "   fixed acidity  volatile acidity  citric acid  residual sugar  chlorides  \\\n",
       "0      -0.238095              0.72    -0.787879       -0.428571      -0.15   \n",
       "1      -0.047619              1.44    -0.787879        0.571429       0.95   \n",
       "2      -0.047619              0.96    -0.666667        0.142857       0.65   \n",
       "3       1.571429             -0.96     0.909091       -0.428571      -0.20   \n",
       "4      -0.238095              0.72    -0.787879       -0.428571      -0.15   \n",
       "\n",
       "   free sulfur dioxide  total sulfur dioxide   density        pH  sulphates  \\\n",
       "0            -0.214286                -0.100  0.469799  1.052632  -0.333333   \n",
       "1             0.785714                 0.725  0.022371 -0.578947   0.333333   \n",
       "2             0.071429                 0.400  0.111857 -0.263158   0.166667   \n",
       "3             0.214286                 0.550  0.559284 -0.789474  -0.222222   \n",
       "4            -0.214286                -0.100  0.469799  1.052632  -0.333333   \n",
       "\n",
       "   alcohol  quality  \n",
       "0    -0.50        0  \n",
       "1    -0.25        0  \n",
       "2    -0.25        0  \n",
       "3    -0.25        1  \n",
       "4    -0.50        0  "
      ]
     },
     "execution_count": 2,
     "metadata": {},
     "output_type": "execute_result"
    }
   ],
   "source": [
    "wine = pd.read_pickle('../../data/02_intermediate/df_robust_scaled.pkl')\n",
    "wine.head()"
   ]
  },
  {
   "cell_type": "markdown",
   "metadata": {},
   "source": [
    "## Set predictors and predicted"
   ]
  },
  {
   "cell_type": "code",
   "execution_count": 3,
   "metadata": {},
   "outputs": [],
   "source": [
    "X = wine.drop(['quality'], axis=1)\n",
    "y = wine['quality']"
   ]
  },
  {
   "cell_type": "markdown",
   "metadata": {},
   "source": [
    "## Train test split"
   ]
  },
  {
   "cell_type": "code",
   "execution_count": 4,
   "metadata": {},
   "outputs": [],
   "source": [
    "X_train, X_test, y_train, y_test = train_test_split(X, y, random_state=4)"
   ]
  },
  {
   "cell_type": "markdown",
   "metadata": {},
   "source": [
    "## Scale Everything by several scaling options"
   ]
  },
  {
   "cell_type": "code",
   "execution_count": 12,
   "metadata": {},
   "outputs": [],
   "source": [
    "std_scaler = StandardScaler()\n",
    "std_X_train = std_scaler.fit_transform(X_train)\n",
    "std_X_test = std_scaler.transform(X_test)\n",
    "\n",
    "rob_scaler = RobustScaler()\n",
    "rob_X_train = rob_scaler.fit_transform(X_train)\n",
    "rob_X_test = rob_scaler.transform(X_test)\n",
    "\n",
    "# poly_scaler = PolynomialFeatures(degree=2)\n",
    "# poly_X = poly_scaler(X)\n",
    "# poly_X_test = poly_scaler.transform(X_test)\n",
    "\n",
    "mM_scaler = MinMaxScaler()\n",
    "mM_X_train = mM_scaler.fit_transform(X_train)\n",
    "mM_X_test = mM_scaler.transform(X_test)"
   ]
  },
  {
   "cell_type": "markdown",
   "metadata": {},
   "source": [
    "## Testing accuracy from Logistic model on std_X"
   ]
  },
  {
   "cell_type": "code",
   "execution_count": 14,
   "metadata": {
    "scrolled": false
   },
   "outputs": [
    {
     "name": "stdout",
     "output_type": "stream",
     "text": [
      "{'log_mod__C': 0.1, 'log_mod__penalty': 'l2', 'pca__n_components': 9}\n"
     ]
    }
   ],
   "source": [
    "pca = PCA()\n",
    "log_mod = LogisticRegression(solver='lbfgs')\n",
    "\n",
    "pipe = Pipeline(steps = [('pca', pca), ('log_mod', log_mod)])\n",
    "\n",
    "param_grid = {\n",
    "    'pca__n_components' : [3, 5, 7, 9],\n",
    "    'log_mod__penalty' : ['l2'],\n",
    "    'log_mod__C' : [.001, .01, .1, 1, 10, 100, 1000],\n",
    "}\n",
    "\n",
    "gs = GridSearchCV(pipe, param_grid, cv=5, scoring=\"accuracy\")\n",
    "gs.fit(std_X_train, y_train)\n",
    "gs.score(std_X_test, y_test)\n",
    "print(gs.best_params_)"
   ]
  },
  {
   "cell_type": "code",
   "execution_count": 24,
   "metadata": {},
   "outputs": [],
   "source": [
    "def param_grid_tuner(param_grid, best_params):\n",
    "    for param, value in best_params.items():\n",
    "        if type(value)==int:\n",
    "            num_options = len(param_grid[param])\n",
    "            if num_options==1:\n",
    "                continue\n",
    "            index = param_grid[param].index(value)\n",
    "            if index==0:\n",
    "                param_grid[param] = [value, int((value+param_grid[param][index+1])/2), param_grid[param][index+1]]\n",
    "                continue\n",
    "            elif index==num_options-1:\n",
    "                param_grid[param] = [param_grid[param][index-1], int((value+param_grid[param][index-1])/2), value]\n",
    "                continue\n",
    "            else:\n",
    "                param_grid[param] = [param_grid[param][index-1], int((value+param_grid[param][index-1])/2), value, \n",
    "                                     int((value+param_grid[param][index+1])/2), param_grid[param][index+1]]\n",
    "        if type(value)==float:\n",
    "            num_options = len(param_grid[param])\n",
    "            if num_options==1:\n",
    "                continue\n",
    "            index = param_grid[param].index(value)\n",
    "            if index==0:\n",
    "                param_grid[param] = [value, (value+param_grid[param][index+1])/2, param_grid[param][index+1]]\n",
    "                continue\n",
    "            elif index==num_options-1:\n",
    "                param_grid[param] = [param_grid[param][index-1], (value+param_grid[param][index-1])/2, value]\n",
    "                continue\n",
    "            else:\n",
    "                param_grid[param] = [param_grid[param][index-1], (value+param_grid[param][index-1])/2, value, \n",
    "                                     (value+param_grid[param][index+1])/2, param_grid[param][index+1]]            \n",
    "        \n",
    "\n",
    "    return param_grid            "
   ]
  },
  {
   "cell_type": "code",
   "execution_count": 30,
   "metadata": {
    "scrolled": true
   },
   "outputs": [
    {
     "name": "stdout",
     "output_type": "stream",
     "text": [
      "0.7225\n",
      "{'log_mod__C': 1.0, 'log_mod__penalty': 'l2', 'pca__n_components': 11}\n",
      "{'pca__n_components': [6, 8, 11], 'log_mod__penalty': ['l2'], 'log_mod__C': [0.1, 0.55, 1.0, 5.5, 10.0]}\n",
      "0.725\n",
      "{'log_mod__C': 0.55, 'log_mod__penalty': 'l2', 'pca__n_components': 11}\n",
      "{'pca__n_components': [8, 9, 11], 'log_mod__penalty': ['l2'], 'log_mod__C': [0.1, 0.325, 0.55, 0.775, 1.0]}\n",
      "0.7275\n",
      "{'log_mod__C': 0.1, 'log_mod__penalty': 'l2', 'pca__n_components': 9}\n",
      "{'pca__n_components': [8, 8, 9, 10, 11], 'log_mod__penalty': ['l2'], 'log_mod__C': [0.1, 0.21250000000000002, 0.325]}\n",
      "0.7275\n",
      "{'log_mod__C': 0.1, 'log_mod__penalty': 'l2', 'pca__n_components': 9}\n",
      "{'pca__n_components': [8, 8, 9, 9, 10], 'log_mod__penalty': ['l2'], 'log_mod__C': [0.1, 0.15625, 0.21250000000000002]}\n"
     ]
    }
   ],
   "source": [
    "param_grid = {\n",
    "    'pca__n_components' : [1, 6, 11],\n",
    "    'log_mod__penalty' : ['l2'],\n",
    "    'log_mod__C' : [.001, .01, .1, 1.0, 10.0, 100.0, 1000.0],\n",
    "}\n",
    "\n",
    "for i in range(4):\n",
    "    gs = GridSearchCV(pipe, param_grid, cv=5, scoring=\"accuracy\")\n",
    "    gs.fit(std_X_train, y_train)\n",
    "    print(gs.score(std_X_test, y_test))\n",
    "    param_grid = param_grid_tuner(param_grid, gs.best_params_)\n",
    "    print(gs.best_params_)\n",
    "    print(param_grid)"
   ]
  },
  {
   "cell_type": "markdown",
   "metadata": {},
   "source": [
    "## Testing accuracy from Logistic model on rob_X"
   ]
  },
  {
   "cell_type": "code",
   "execution_count": 32,
   "metadata": {},
   "outputs": [
    {
     "name": "stdout",
     "output_type": "stream",
     "text": [
      "0.7225\n",
      "{'log_mod__C': 0.1, 'log_mod__penalty': 'l2', 'pca__n_components': 11}\n",
      "{'pca__n_components': [6, 8, 11], 'log_mod__penalty': ['l2'], 'log_mod__C': [0.01, 0.055, 0.1, 0.55, 1.0]}\n",
      "0.7225\n",
      "{'log_mod__C': 0.1, 'log_mod__penalty': 'l2', 'pca__n_components': 11}\n",
      "{'pca__n_components': [8, 9, 11], 'log_mod__penalty': ['l2'], 'log_mod__C': [0.055, 0.0775, 0.1, 0.325, 0.55]}\n",
      "0.7225\n",
      "{'log_mod__C': 0.1, 'log_mod__penalty': 'l2', 'pca__n_components': 11}\n",
      "{'pca__n_components': [9, 10, 11], 'log_mod__penalty': ['l2'], 'log_mod__C': [0.0775, 0.08875, 0.1, 0.21250000000000002, 0.325]}\n",
      "0.72\n",
      "{'log_mod__C': 0.08875, 'log_mod__penalty': 'l2', 'pca__n_components': 11}\n",
      "{'pca__n_components': [10, 10, 11], 'log_mod__penalty': ['l2'], 'log_mod__C': [0.0775, 0.083125, 0.08875, 0.094375, 0.1]}\n",
      "0.72\n",
      "{'log_mod__C': 0.083125, 'log_mod__penalty': 'l2', 'pca__n_components': 11}\n",
      "{'pca__n_components': [10, 10, 11], 'log_mod__penalty': ['l2'], 'log_mod__C': [0.0775, 0.08031250000000001, 0.083125, 0.0859375, 0.08875]}\n"
     ]
    }
   ],
   "source": [
    "param_grid = {\n",
    "    'pca__n_components' : [1, 6, 11],\n",
    "    'log_mod__penalty' : ['l2'],\n",
    "    'log_mod__C' : [.001, .01, .1, 1.0, 10.0, 100.0, 1000.0],\n",
    "}\n",
    "\n",
    "for i in range(5):\n",
    "    gs = GridSearchCV(pipe, param_grid, cv=5, scoring=\"accuracy\")\n",
    "    gs.fit(rob_X_train, y_train)\n",
    "    print(gs.score(rob_X_test, y_test))\n",
    "    param_grid = param_grid_tuner(param_grid, gs.best_params_)\n",
    "    print(gs.best_params_)\n",
    "    print(param_grid)"
   ]
  },
  {
   "cell_type": "markdown",
   "metadata": {},
   "source": [
    "## Testing accuracy from Logistic model on mM_X"
   ]
  },
  {
   "cell_type": "code",
   "execution_count": 33,
   "metadata": {},
   "outputs": [
    {
     "name": "stdout",
     "output_type": "stream",
     "text": [
      "0.7175\n",
      "{'log_mod__C': 1.0, 'log_mod__penalty': 'l2', 'pca__n_components': 11}\n",
      "{'pca__n_components': [6, 8, 11], 'log_mod__penalty': ['l2'], 'log_mod__C': [0.1, 0.55, 1.0, 5.5, 10.0]}\n",
      "0.7275\n",
      "{'log_mod__C': 5.5, 'log_mod__penalty': 'l2', 'pca__n_components': 11}\n",
      "{'pca__n_components': [8, 9, 11], 'log_mod__penalty': ['l2'], 'log_mod__C': [1.0, 3.25, 5.5, 7.75, 10.0]}\n",
      "0.7275\n",
      "{'log_mod__C': 5.5, 'log_mod__penalty': 'l2', 'pca__n_components': 11}\n",
      "{'pca__n_components': [9, 10, 11], 'log_mod__penalty': ['l2'], 'log_mod__C': [3.25, 4.375, 5.5, 6.625, 7.75]}\n",
      "0.7275\n",
      "{'log_mod__C': 5.5, 'log_mod__penalty': 'l2', 'pca__n_components': 11}\n",
      "{'pca__n_components': [10, 10, 11], 'log_mod__penalty': ['l2'], 'log_mod__C': [4.375, 4.9375, 5.5, 6.0625, 6.625]}\n",
      "0.7275\n",
      "{'log_mod__C': 5.5, 'log_mod__penalty': 'l2', 'pca__n_components': 11}\n",
      "{'pca__n_components': [10, 10, 11], 'log_mod__penalty': ['l2'], 'log_mod__C': [4.9375, 5.21875, 5.5, 5.78125, 6.0625]}\n"
     ]
    }
   ],
   "source": [
    "param_grid = {\n",
    "    'pca__n_components' : [1, 6, 11],\n",
    "    'log_mod__penalty' : ['l2'],\n",
    "    'log_mod__C' : [.001, .01, .1, 1.0, 10.0, 100.0, 1000.0],\n",
    "}\n",
    "\n",
    "for i in range(5):\n",
    "    gs = GridSearchCV(pipe, param_grid, cv=5, scoring=\"accuracy\")\n",
    "    gs.fit(mM_X_train, y_train)\n",
    "    print(gs.score(mM_X_test, y_test))\n",
    "    param_grid = param_grid_tuner(param_grid, gs.best_params_)\n",
    "    print(gs.best_params_)\n",
    "    print(param_grid)"
   ]
  },
  {
   "cell_type": "code",
   "execution_count": 87,
   "metadata": {},
   "outputs": [
    {
     "name": "stdout",
     "output_type": "stream",
     "text": [
      "0.712 0.656\n"
     ]
    }
   ],
   "source": [
    "pca = PCA(n_components=7)\n",
    "principal_comps = pca.fit_transform(mM_X_train)\n",
    "# pca.explained_variance_ratio_\n",
    "log_reg = LogisticRegression(solver='lbfgs', C=0.1)\n",
    "log_reg.fit(principal_comps, mM_y_train)\n",
    "print(log_reg.score(principal_comps, mM_y_train),\n",
    "log_reg.score(pca.transform(mM_X_test), mM_y_test))"
   ]
  },
  {
   "cell_type": "markdown",
   "metadata": {},
   "source": [
    "## Testing accuracy from RadnomForest model on std_X"
   ]
  },
  {
   "cell_type": "code",
   "execution_count": 90,
   "metadata": {},
   "outputs": [
    {
     "name": "stdout",
     "output_type": "stream",
     "text": [
      "{'pca__n_components': 5, 'rand_forest__criterion': 'gini', 'rand_forest__max_depth': 2, 'rand_forest__n_estimators': 6}\n"
     ]
    },
    {
     "name": "stderr",
     "output_type": "stream",
     "text": [
      "C:\\Users\\cliff\\Anaconda3\\lib\\site-packages\\sklearn\\model_selection\\_search.py:814: DeprecationWarning: The default of the `iid` parameter will change from True to False in version 0.22 and will be removed in 0.24. This will change numeric results when test-set sizes are unequal.\n",
      "  DeprecationWarning)\n"
     ]
    }
   ],
   "source": [
    "pca = PCA()\n",
    "rand_forest = RandomForestClassifier()\n",
    "\n",
    "pipe = Pipeline(steps = [('pca', pca), ('rand_forest', rand_forest)])\n",
    "\n",
    "param_grid = {\n",
    "    'pca__n_components' : [3, 4, 5],\n",
    "    'rand_forest__n_estimators' : [5, 6, 7],\n",
    "    'rand_forest__criterion': ['gini'],\n",
    "    'rand_forest__max_depth': [2]\n",
    "}\n",
    "\n",
    "gs = GridSearchCV(pipe, param_grid, cv = 5, scoring = \"accuracy\")\n",
    "gs.fit(mM_X_train, mM_y_train)\n",
    "gs.score(mM_X_test, mM_y_test)\n",
    "print(gs.best_params_)"
   ]
  },
  {
   "cell_type": "code",
   "execution_count": null,
   "metadata": {},
   "outputs": [],
   "source": [
    "pca = PCA(n_components=5)\n"
   ]
  },
  {
   "cell_type": "code",
   "execution_count": null,
   "metadata": {},
   "outputs": [],
   "source": [
    "!"
   ]
  }
 ],
 "metadata": {
  "kernelspec": {
   "display_name": "Python 3",
   "language": "python",
   "name": "python3"
  },
  "language_info": {
   "codemirror_mode": {
    "name": "ipython",
    "version": 3
   },
   "file_extension": ".py",
   "mimetype": "text/x-python",
   "name": "python",
   "nbconvert_exporter": "python",
   "pygments_lexer": "ipython3",
   "version": "3.7.3"
  }
 },
 "nbformat": 4,
 "nbformat_minor": 2
}
